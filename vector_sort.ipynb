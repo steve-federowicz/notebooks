{
 "metadata": {
  "name": "",
  "signature": "sha256:d1de00fb78f9b5e31675d448d0481695db9f135e14603982ebb19e071d72a52c"
 },
 "nbformat": 3,
 "nbformat_minor": 0,
 "worksheets": [
  {
   "cells": [
    {
     "cell_type": "code",
     "collapsed": false,
     "input": [
      "class Vector():\n",
      "    magnitude = None\n",
      "    direction = None\n",
      "    \n",
      "    def __repr__(self):\n",
      "        return str(self.magnitude)\n",
      "    \n",
      "    def __init__(self, magnitude, direction):\n",
      "        self.magnitude = magnitude\n",
      "        self.direction = direction"
     ],
     "language": "python",
     "metadata": {},
     "outputs": [],
     "prompt_number": 23
    },
    {
     "cell_type": "code",
     "collapsed": false,
     "input": [
      "a = Vector(1,2)\n",
      "b = Vector(3,4)\n",
      "c = Vector(5,6)\n",
      "d = Vector(10,12)\n",
      "e = Vector(7,3)\n",
      "x = [a,b,c,d,e]"
     ],
     "language": "python",
     "metadata": {},
     "outputs": [],
     "prompt_number": 31
    },
    {
     "cell_type": "code",
     "collapsed": false,
     "input": [
      "x"
     ],
     "language": "python",
     "metadata": {},
     "outputs": [
      {
       "metadata": {},
       "output_type": "pyout",
       "prompt_number": 32,
       "text": [
        "[1, 3, 5, 10, 7]"
       ]
      }
     ],
     "prompt_number": 32
    },
    {
     "cell_type": "code",
     "collapsed": false,
     "input": [
      "sorted(x)"
     ],
     "language": "python",
     "metadata": {},
     "outputs": [
      {
       "metadata": {},
       "output_type": "pyout",
       "prompt_number": 33,
       "text": [
        "[3, 5, 1, 10, 7]"
       ]
      }
     ],
     "prompt_number": 33
    },
    {
     "cell_type": "code",
     "collapsed": false,
     "input": [
      "sorted(x, key=lambda x: x.magnitude)"
     ],
     "language": "python",
     "metadata": {},
     "outputs": [
      {
       "metadata": {},
       "output_type": "pyout",
       "prompt_number": 34,
       "text": [
        "[1, 3, 5, 7, 10]"
       ]
      }
     ],
     "prompt_number": 34
    }
   ],
   "metadata": {}
  }
 ]
}